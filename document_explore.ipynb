{
 "cells": [
  {
   "cell_type": "code",
   "execution_count": 2,
   "metadata": {},
   "outputs": [],
   "source": [
    "import os.path\n",
    "import sqlite3\n",
    "import os\n",
    "\n",
    "version = '_old'"
   ]
  },
  {
   "cell_type": "code",
   "execution_count": 3,
   "metadata": {},
   "outputs": [],
   "source": [
    "def give_lists(db, name, columns, rows):\n",
    "    command = f\"\"\"\n",
    "    SELECT {', '.join(columns)} FROM (\n",
    "        SELECT ROW_NUMBER() OVER (ORDER BY decision_date) AS RowNum, *\n",
    "        FROM {name} CA\n",
    "    ) C\n",
    "    WHERE C.RowNum IN {tuple(ind + 1 for ind in rows)}\n",
    "    ORDER BY {', '.join([f'C.RowNum={ind+1} DESC' for ind in rows])}\n",
    "    \"\"\"\n",
    "    res_table = db.execute(command)\n",
    "    rows = [' '.join(row) for row in res_table]\n",
    "    return rows\n",
    "\n",
    "con = sqlite3.connect(f'./data/courtCases{version}.db')\n",
    "cur = con.cursor()"
   ]
  },
  {
   "cell_type": "code",
   "execution_count": 21,
   "metadata": {},
   "outputs": [
    {
     "data": {
      "text/plain": [
       "['BOYD v. US',\n",
       " 'SAVAGE v. JONES',\n",
       " 'SUNKIST v. WINCKLER & SMITH CO.',\n",
       " 'ADICKES v. KRESS & CO.',\n",
       " 'BALDASAR v. ILLINOIS']"
      ]
     },
     "execution_count": 21,
     "metadata": {},
     "output_type": "execute_result"
    }
   ],
   "source": [
    "give_lists(cur, 'Cases', ['name'], [10, 154, 46, 134, 111])"
   ]
  },
  {
   "cell_type": "code",
   "execution_count": 22,
   "metadata": {},
   "outputs": [
    {
     "data": {
      "text/plain": [
       "['MITCHELL v. HARMONY', 'ANDREWS v. UNITED STATES', 'GREGG v. GEORGIA']"
      ]
     },
     "execution_count": 22,
     "metadata": {},
     "output_type": "execute_result"
    }
   ],
   "source": [
    "give_lists(cur, 'Cases', ['name'], [144, 112, 3])"
   ]
  }
 ],
 "metadata": {
  "kernelspec": {
   "display_name": "rag",
   "language": "python",
   "name": "python3"
  },
  "language_info": {
   "codemirror_mode": {
    "name": "ipython",
    "version": 3
   },
   "file_extension": ".py",
   "mimetype": "text/x-python",
   "name": "python",
   "nbconvert_exporter": "python",
   "pygments_lexer": "ipython3",
   "version": "3.12.2"
  }
 },
 "nbformat": 4,
 "nbformat_minor": 2
}
