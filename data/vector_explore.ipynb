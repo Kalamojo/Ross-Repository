{
 "cells": [
  {
   "cell_type": "code",
   "execution_count": 17,
   "metadata": {},
   "outputs": [],
   "source": [
    "import os.path\n",
    "import sqlite3\n",
    "import cohere\n",
    "import numpy as np"
   ]
  },
  {
   "cell_type": "code",
   "execution_count": 18,
   "metadata": {},
   "outputs": [],
   "source": [
    "def give_list(db, name=''):\n",
    "\tif len(name) != 0:\n",
    "\t\t#print(name + ':')\n",
    "\t\tres_table = db.execute(f'SELECT * FROM {name}')\n",
    "\t\trows = [row[0] for row in res_table]\n",
    "\t\treturn rows\n",
    "\telse:\n",
    "\t\trows = [row[0] for row in db]\n",
    "\t\treturn rows"
   ]
  },
  {
   "cell_type": "code",
   "execution_count": 19,
   "metadata": {},
   "outputs": [
    {
     "data": {
      "text/plain": [
       "'bruh, and muh v. bruh'"
      ]
     },
     "execution_count": 19,
     "metadata": {},
     "output_type": "execute_result"
    }
   ],
   "source": [
    "title = \"bruh, and muh v. bruh, sdfsd\"\n",
    "', '.join(title.split(', ')[:-1]).split('(')[0].rstrip()"
   ]
  },
  {
   "cell_type": "code",
   "execution_count": 20,
   "metadata": {},
   "outputs": [],
   "source": [
    "con = sqlite3.connect('courtCases_old.db')\n",
    "cur = con.cursor()"
   ]
  },
  {
   "cell_type": "code",
   "execution_count": 21,
   "metadata": {},
   "outputs": [],
   "source": [
    "command = \"\"\"\n",
    "SELECT name\n",
    "FROM Cases C\n",
    "\"\"\"\n",
    "\n",
    "res_table = cur.execute(command)\n",
    "names = give_list(res_table)\n",
    "\n",
    "command = \"\"\"\n",
    "SELECT content\n",
    "FROM Cases C\n",
    "\"\"\"\n",
    "\n",
    "res_table = cur.execute(command)\n",
    "content = give_list(res_table)\n",
    "\n",
    "docs = [n + ':\\n' + c for n in names for c in content]"
   ]
  },
  {
   "cell_type": "code",
   "execution_count": 22,
   "metadata": {},
   "outputs": [
    {
     "data": {
      "text/plain": [
       "True"
      ]
     },
     "execution_count": 22,
     "metadata": {},
     "output_type": "execute_result"
    }
   ],
   "source": [
    "import os\n",
    "from dotenv import load_dotenv\n",
    "\n",
    "load_dotenv()"
   ]
  },
  {
   "cell_type": "code",
   "execution_count": 23,
   "metadata": {},
   "outputs": [],
   "source": [
    "cohere_key = os.getenv(\"COHERE_API_KEY\")\n",
    "co = cohere.Client(cohere_key)"
   ]
  },
  {
   "cell_type": "code",
   "execution_count": 24,
   "metadata": {},
   "outputs": [
    {
     "data": {
      "text/plain": [
       "array([[ 0.05593872, -0.0021801 ,  0.01139831, ...,  0.02645874,\n",
       "        -0.03637695,  0.01754761],\n",
       "       [-0.00680542, -0.02107239, -0.0008564 , ...,  0.01207733,\n",
       "        -0.02563477,  0.0178833 ],\n",
       "       [ 0.04556274,  0.02868652,  0.01488495, ..., -0.02157593,\n",
       "         0.02545166,  0.01864624],\n",
       "       ...,\n",
       "       [ 0.03811646,  0.00497818,  0.06744385, ...,  0.05541992,\n",
       "         0.01400757,  0.00035119],\n",
       "       [ 0.03265381, -0.03857422,  0.03231812, ..., -0.01438904,\n",
       "        -0.01423645,  0.02304077],\n",
       "       [ 0.02694702, -0.02528381,  0.03274536, ..., -0.03622437,\n",
       "        -0.01242828,  0.01734924]])"
      ]
     },
     "execution_count": 24,
     "metadata": {},
     "output_type": "execute_result"
    }
   ],
   "source": [
    "doc_emb = co.embed(docs, input_type=\"search_document\", model=\"embed-english-v3.0\").embeddings\n",
    "doc_emb = np.asarray(doc_emb)\n",
    "doc_emb"
   ]
  },
  {
   "cell_type": "code",
   "execution_count": 25,
   "metadata": {},
   "outputs": [
    {
     "data": {
      "text/plain": [
       "(40000, 1024)"
      ]
     },
     "execution_count": 25,
     "metadata": {},
     "output_type": "execute_result"
    }
   ],
   "source": [
    "doc_emb.shape"
   ]
  },
  {
   "cell_type": "code",
   "execution_count": 26,
   "metadata": {},
   "outputs": [
    {
     "data": {
      "text/plain": [
       "(1, 1024)"
      ]
     },
     "execution_count": 26,
     "metadata": {},
     "output_type": "execute_result"
    }
   ],
   "source": [
    "#Encode your query with input type 'search_query'\n",
    "query = \"Is there any precedent for calling a second-hand witness to the stand?\"\n",
    "query_emb = co.embed([query], input_type=\"search_query\", model=\"embed-english-v3.0\").embeddings\n",
    "query_emb = np.asarray(query_emb)\n",
    "query_emb.shape"
   ]
  },
  {
   "cell_type": "code",
   "execution_count": 27,
   "metadata": {},
   "outputs": [
    {
     "name": "stdout",
     "output_type": "stream",
     "text": [
      "Query: Is there any precedent for calling a second-hand witness to the stand?\n",
      "Score: 0.44\n",
      "ATCHISON: ORDER\n",
      "\n",
      "This case is restored to the calendar for reargument. Counsel are requested to brief and discuss during oral argument the following questions: [434 U.S. 980 , 981]   1. Is the rule heretofore applied in the federal courts-that jeopardy attaches in jury trials when the jury is sworn-constitutionally mandated?\n",
      "\n",
      "2. Should this Court hold that the Constitution does not require jeopardy to attach in any trial-state or federal, jury or nonjury- until the first witness is sworn?\n",
      "\n",
      "The Solicitor General is invited to file a brief expressing th views of the United States on each of these questions.\n",
      "\n",
      "Mr. Justice MARSHALL, dissenting.\n",
      "\n",
      "By its order restoring this case to the calendar for rebriefing and additional oral argument, the Court appears once again to be \"reach[ing] out\" for a vehicle to change a long line of precedent. See Pennsylvania v. Mimms, 434 U.S. 106 , at 117, (STEVENS, J., dissenting). The Court asks the parties to discuss the rule to be applied in the federal courts with regard to attachment of jeopardy, a rule that is very well established. 1 But the parties here are Montana prison officials, represented by the Attorney General of Montana, and state-court defendants; they can hardly be considered knowledgeable about the federal courts. The Court attempts to surmount this difficulty by inviting the Solicitor General to provide the federal prosecutor's perspective on this important issue, yet it does not invite the other side, federal defendants or a representative of them, to submit a brief providing the opposing perspective.\n",
      "\n",
      "In my view, the Court today does violence to two assumptions underlying Art. III of the Constitution: that we will [434 U.S. 980 , 982]   not anticipate a question before it is necessary to decide it,2 and that both sides of an issue will be vigorously represented by involved advocates. 3 See generally Ashwander v. TVA, 297 U.S. 288, 346 -348, 56 S. Ct. 466 (1936) (Brandeis, J., concurring). I dissent from the order restoring the case for reargument.\n",
      "\n",
      "Footnotes\n",
      "\n",
      "[ Footnote 1 ] The current federal rule on attachment of jeopardy was applied in the federal courts as early as 1868. United States v. Watson, 28 F.Cas. 499 (No. 16,651) (S.D.N.Y.). Since Downum v. United States, 372 U.S. 734 (1963), it has never been questioned in this Court that jeopardy attaches when the jury is sworn. See, e. g., Illinois v. Somerville, 410 U.S. 458, 467 (1973); id., at 471 (WHITE, J., dissenting); Serfass v. United States, 420 U.S. 377, 388 (1975); United States v. Martin Linen Supply Co., 430 U.S. 564, 569 , 51 L. Ed.2d 642 (1977).\n",
      "\n",
      "[ Footnote 2 ] The problems involved in anticipating a question are illustrated by the form of the Court's order. The Court asks about only two possibilities-when the jury is sworn or when the first witness is sworn- along a continuum of moments in a trial when jeopardy might be thought to attach. If tradition in this area is to be abandoned, there is no reason to limit the parties to these two quite arbitrary points of discussion. Cf. Williams v. Florida, 399 U.S. 78 , 125-126 (1970) (Harlan, J., concurring and dissenting) (arbitrariness as reason for \"not hoisting the anchor to history\"). At least one commentator has argued that attaching jeopardy when the jury is sworn is too late, not too early, and that jeopardy should attach at the opening of voir dire. Schulhofer, Jeopardy and Mistrials, 125 U.Pa.L.Rev. 449, 512- 514 (1977).\n",
      "\n",
      "[ Footnote 3 ] It is particularly surprising that the Court grants oral argument to the state parties here, in view of the fact that rebriefing only-and not additional oral argument-was ordered earlier this Term in Regents of University of California v. Bakke, 434 U.S. 810 . I cannot believe that the Court views the instant case as raising more momentous issues than those raised in Bakke.\n",
      "--------\n",
      "Score: 0.44\n",
      "MAYO COLLABORATIVE SERVICES: ORDER\n",
      "\n",
      "This case is restored to the calendar for reargument. Counsel are requested to brief and discuss during oral argument the following questions: [434 U.S. 980 , 981]   1. Is the rule heretofore applied in the federal courts-that jeopardy attaches in jury trials when the jury is sworn-constitutionally mandated?\n",
      "\n",
      "2. Should this Court hold that the Constitution does not require jeopardy to attach in any trial-state or federal, jury or nonjury- until the first witness is sworn?\n",
      "\n",
      "The Solicitor General is invited to file a brief expressing th views of the United States on each of these questions.\n",
      "\n",
      "Mr. Justice MARSHALL, dissenting.\n",
      "\n",
      "By its order restoring this case to the calendar for rebriefing and additional oral argument, the Court appears once again to be \"reach[ing] out\" for a vehicle to change a long line of precedent. See Pennsylvania v. Mimms, 434 U.S. 106 , at 117, (STEVENS, J., dissenting). The Court asks the parties to discuss the rule to be applied in the federal courts with regard to attachment of jeopardy, a rule that is very well established. 1 But the parties here are Montana prison officials, represented by the Attorney General of Montana, and state-court defendants; they can hardly be considered knowledgeable about the federal courts. The Court attempts to surmount this difficulty by inviting the Solicitor General to provide the federal prosecutor's perspective on this important issue, yet it does not invite the other side, federal defendants or a representative of them, to submit a brief providing the opposing perspective.\n",
      "\n",
      "In my view, the Court today does violence to two assumptions underlying Art. III of the Constitution: that we will [434 U.S. 980 , 982]   not anticipate a question before it is necessary to decide it,2 and that both sides of an issue will be vigorously represented by involved advocates. 3 See generally Ashwander v. TVA, 297 U.S. 288, 346 -348, 56 S. Ct. 466 (1936) (Brandeis, J., concurring). I dissent from the order restoring the case for reargument.\n",
      "\n",
      "Footnotes\n",
      "\n",
      "[ Footnote 1 ] The current federal rule on attachment of jeopardy was applied in the federal courts as early as 1868. United States v. Watson, 28 F.Cas. 499 (No. 16,651) (S.D.N.Y.). Since Downum v. United States, 372 U.S. 734 (1963), it has never been questioned in this Court that jeopardy attaches when the jury is sworn. See, e. g., Illinois v. Somerville, 410 U.S. 458, 467 (1973); id., at 471 (WHITE, J., dissenting); Serfass v. United States, 420 U.S. 377, 388 (1975); United States v. Martin Linen Supply Co., 430 U.S. 564, 569 , 51 L. Ed.2d 642 (1977).\n",
      "\n",
      "[ Footnote 2 ] The problems involved in anticipating a question are illustrated by the form of the Court's order. The Court asks about only two possibilities-when the jury is sworn or when the first witness is sworn- along a continuum of moments in a trial when jeopardy might be thought to attach. If tradition in this area is to be abandoned, there is no reason to limit the parties to these two quite arbitrary points of discussion. Cf. Williams v. Florida, 399 U.S. 78 , 125-126 (1970) (Harlan, J., concurring and dissenting) (arbitrariness as reason for \"not hoisting the anchor to history\"). At least one commentator has argued that attaching jeopardy when the jury is sworn is too late, not too early, and that jeopardy should attach at the opening of voir dire. Schulhofer, Jeopardy and Mistrials, 125 U.Pa.L.Rev. 449, 512- 514 (1977).\n",
      "\n",
      "[ Footnote 3 ] It is particularly surprising that the Court grants oral argument to the state parties here, in view of the fact that rebriefing only-and not additional oral argument-was ordered earlier this Term in Regents of University of California v. Bakke, 434 U.S. 810 . I cannot believe that the Court views the instant case as raising more momentous issues than those raised in Bakke.\n",
      "--------\n",
      "Score: 0.43\n",
      "CHICAGO: ORDER\n",
      "\n",
      "This case is restored to the calendar for reargument. Counsel are requested to brief and discuss during oral argument the following questions: [434 U.S. 980 , 981]   1. Is the rule heretofore applied in the federal courts-that jeopardy attaches in jury trials when the jury is sworn-constitutionally mandated?\n",
      "\n",
      "2. Should this Court hold that the Constitution does not require jeopardy to attach in any trial-state or federal, jury or nonjury- until the first witness is sworn?\n",
      "\n",
      "The Solicitor General is invited to file a brief expressing th views of the United States on each of these questions.\n",
      "\n",
      "Mr. Justice MARSHALL, dissenting.\n",
      "\n",
      "By its order restoring this case to the calendar for rebriefing and additional oral argument, the Court appears once again to be \"reach[ing] out\" for a vehicle to change a long line of precedent. See Pennsylvania v. Mimms, 434 U.S. 106 , at 117, (STEVENS, J., dissenting). The Court asks the parties to discuss the rule to be applied in the federal courts with regard to attachment of jeopardy, a rule that is very well established. 1 But the parties here are Montana prison officials, represented by the Attorney General of Montana, and state-court defendants; they can hardly be considered knowledgeable about the federal courts. The Court attempts to surmount this difficulty by inviting the Solicitor General to provide the federal prosecutor's perspective on this important issue, yet it does not invite the other side, federal defendants or a representative of them, to submit a brief providing the opposing perspective.\n",
      "\n",
      "In my view, the Court today does violence to two assumptions underlying Art. III of the Constitution: that we will [434 U.S. 980 , 982]   not anticipate a question before it is necessary to decide it,2 and that both sides of an issue will be vigorously represented by involved advocates. 3 See generally Ashwander v. TVA, 297 U.S. 288, 346 -348, 56 S. Ct. 466 (1936) (Brandeis, J., concurring). I dissent from the order restoring the case for reargument.\n",
      "\n",
      "Footnotes\n",
      "\n",
      "[ Footnote 1 ] The current federal rule on attachment of jeopardy was applied in the federal courts as early as 1868. United States v. Watson, 28 F.Cas. 499 (No. 16,651) (S.D.N.Y.). Since Downum v. United States, 372 U.S. 734 (1963), it has never been questioned in this Court that jeopardy attaches when the jury is sworn. See, e. g., Illinois v. Somerville, 410 U.S. 458, 467 (1973); id., at 471 (WHITE, J., dissenting); Serfass v. United States, 420 U.S. 377, 388 (1975); United States v. Martin Linen Supply Co., 430 U.S. 564, 569 , 51 L. Ed.2d 642 (1977).\n",
      "\n",
      "[ Footnote 2 ] The problems involved in anticipating a question are illustrated by the form of the Court's order. The Court asks about only two possibilities-when the jury is sworn or when the first witness is sworn- along a continuum of moments in a trial when jeopardy might be thought to attach. If tradition in this area is to be abandoned, there is no reason to limit the parties to these two quite arbitrary points of discussion. Cf. Williams v. Florida, 399 U.S. 78 , 125-126 (1970) (Harlan, J., concurring and dissenting) (arbitrariness as reason for \"not hoisting the anchor to history\"). At least one commentator has argued that attaching jeopardy when the jury is sworn is too late, not too early, and that jeopardy should attach at the opening of voir dire. Schulhofer, Jeopardy and Mistrials, 125 U.Pa.L.Rev. 449, 512- 514 (1977).\n",
      "\n",
      "[ Footnote 3 ] It is particularly surprising that the Court grants oral argument to the state parties here, in view of the fact that rebriefing only-and not additional oral argument-was ordered earlier this Term in Regents of University of California v. Bakke, 434 U.S. 810 . I cannot believe that the Court views the instant case as raising more momentous issues than those raised in Bakke.\n",
      "--------\n"
     ]
    }
   ],
   "source": [
    "#Compute the dot product between query embedding and document embedding\n",
    "scores = np.dot(query_emb, doc_emb.T)[0]\n",
    "\n",
    "#Find the highest scores\n",
    "max_idx = np.argsort(-scores)\n",
    "\n",
    "count = 0\n",
    "print(f\"Query: {query}\")\n",
    "for idx in max_idx:\n",
    "  print(f\"Score: {scores[idx]:.2f}\")\n",
    "  print(docs[idx])\n",
    "  print(\"--------\")\n",
    "  count += 1\n",
    "  if count == 3:\n",
    "    break;"
   ]
  },
  {
   "cell_type": "code",
   "execution_count": 28,
   "metadata": {},
   "outputs": [
    {
     "name": "stdout",
     "output_type": "stream",
     "text": [
      "Query: Is there any precedent for calling a second-hand witness to the stand?\n",
      "Score: 0.44\n",
      "ATCHISON: ORDER\n",
      "\n",
      "This case is restored to the calendar for reargument. Counsel are requested to brief and discuss during oral argument the following questions: [434 U.S. 980 , 981]   1. Is the rule heretofore applied in the federal courts-that jeopardy attaches in jury trials when the jury is sworn-constitutionally mandated?\n",
      "\n",
      "2. Should this Court hold that the Constitution does not require jeopardy to attach in any trial-state or federal, jury or nonjury- until the first witness is sworn?\n",
      "\n",
      "The Solicitor General is invited to file a brief expressing th views of the United States on each of these questions.\n",
      "\n",
      "Mr. Justice MARSHALL, dissenting.\n",
      "\n",
      "By its order restoring this case to the calendar for rebriefing and additional oral argument, the Court appears once again to be \"reach[ing] out\" for a vehicle to change a long line of precedent. See Pennsylvania v. Mimms, 434 U.S. 106 , at 117, (STEVENS, J., dissenting). The Court asks the parties to discuss the rule to be applied in the federal courts with regard to attachment of jeopardy, a rule that is very well established. 1 But the parties here are Montana prison officials, represented by the Attorney General of Montana, and state-court defendants; they can hardly be considered knowledgeable about the federal courts. The Court attempts to surmount this difficulty by inviting the Solicitor General to provide the federal prosecutor's perspective on this important issue, yet it does not invite the other side, federal defendants or a representative of them, to submit a brief providing the opposing perspective.\n",
      "\n",
      "In my view, the Court today does violence to two assumptions underlying Art. III of the Constitution: that we will [434 U.S. 980 , 982]   not anticipate a question before it is necessary to decide it,2 and that both sides of an issue will be vigorously represented by involved advocates. 3 See generally Ashwander v. TVA, 297 U.S. 288, 346 -348, 56 S. Ct. 466 (1936) (Brandeis, J., concurring). I dissent from the order restoring the case for reargument.\n",
      "\n",
      "Footnotes\n",
      "\n",
      "[ Footnote 1 ] The current federal rule on attachment of jeopardy was applied in the federal courts as early as 1868. United States v. Watson, 28 F.Cas. 499 (No. 16,651) (S.D.N.Y.). Since Downum v. United States, 372 U.S. 734 (1963), it has never been questioned in this Court that jeopardy attaches when the jury is sworn. See, e. g., Illinois v. Somerville, 410 U.S. 458, 467 (1973); id., at 471 (WHITE, J., dissenting); Serfass v. United States, 420 U.S. 377, 388 (1975); United States v. Martin Linen Supply Co., 430 U.S. 564, 569 , 51 L. Ed.2d 642 (1977).\n",
      "\n",
      "[ Footnote 2 ] The problems involved in anticipating a question are illustrated by the form of the Court's order. The Court asks about only two possibilities-when the jury is sworn or when the first witness is sworn- along a continuum of moments in a trial when jeopardy might be thought to attach. If tradition in this area is to be abandoned, there is no reason to limit the parties to these two quite arbitrary points of discussion. Cf. Williams v. Florida, 399 U.S. 78 , 125-126 (1970) (Harlan, J., concurring and dissenting) (arbitrariness as reason for \"not hoisting the anchor to history\"). At least one commentator has argued that attaching jeopardy when the jury is sworn is too late, not too early, and that jeopardy should attach at the opening of voir dire. Schulhofer, Jeopardy and Mistrials, 125 U.Pa.L.Rev. 449, 512- 514 (1977).\n",
      "\n",
      "[ Footnote 3 ] It is particularly surprising that the Court grants oral argument to the state parties here, in view of the fact that rebriefing only-and not additional oral argument-was ordered earlier this Term in Regents of University of California v. Bakke, 434 U.S. 810 . I cannot believe that the Court views the instant case as raising more momentous issues than those raised in Bakke.\n",
      "--------\n",
      "Score: 0.44\n",
      "MAYO COLLABORATIVE SERVICES: ORDER\n",
      "\n",
      "This case is restored to the calendar for reargument. Counsel are requested to brief and discuss during oral argument the following questions: [434 U.S. 980 , 981]   1. Is the rule heretofore applied in the federal courts-that jeopardy attaches in jury trials when the jury is sworn-constitutionally mandated?\n",
      "\n",
      "2. Should this Court hold that the Constitution does not require jeopardy to attach in any trial-state or federal, jury or nonjury- until the first witness is sworn?\n",
      "\n",
      "The Solicitor General is invited to file a brief expressing th views of the United States on each of these questions.\n",
      "\n",
      "Mr. Justice MARSHALL, dissenting.\n",
      "\n",
      "By its order restoring this case to the calendar for rebriefing and additional oral argument, the Court appears once again to be \"reach[ing] out\" for a vehicle to change a long line of precedent. See Pennsylvania v. Mimms, 434 U.S. 106 , at 117, (STEVENS, J., dissenting). The Court asks the parties to discuss the rule to be applied in the federal courts with regard to attachment of jeopardy, a rule that is very well established. 1 But the parties here are Montana prison officials, represented by the Attorney General of Montana, and state-court defendants; they can hardly be considered knowledgeable about the federal courts. The Court attempts to surmount this difficulty by inviting the Solicitor General to provide the federal prosecutor's perspective on this important issue, yet it does not invite the other side, federal defendants or a representative of them, to submit a brief providing the opposing perspective.\n",
      "\n",
      "In my view, the Court today does violence to two assumptions underlying Art. III of the Constitution: that we will [434 U.S. 980 , 982]   not anticipate a question before it is necessary to decide it,2 and that both sides of an issue will be vigorously represented by involved advocates. 3 See generally Ashwander v. TVA, 297 U.S. 288, 346 -348, 56 S. Ct. 466 (1936) (Brandeis, J., concurring). I dissent from the order restoring the case for reargument.\n",
      "\n",
      "Footnotes\n",
      "\n",
      "[ Footnote 1 ] The current federal rule on attachment of jeopardy was applied in the federal courts as early as 1868. United States v. Watson, 28 F.Cas. 499 (No. 16,651) (S.D.N.Y.). Since Downum v. United States, 372 U.S. 734 (1963), it has never been questioned in this Court that jeopardy attaches when the jury is sworn. See, e. g., Illinois v. Somerville, 410 U.S. 458, 467 (1973); id., at 471 (WHITE, J., dissenting); Serfass v. United States, 420 U.S. 377, 388 (1975); United States v. Martin Linen Supply Co., 430 U.S. 564, 569 , 51 L. Ed.2d 642 (1977).\n",
      "\n",
      "[ Footnote 2 ] The problems involved in anticipating a question are illustrated by the form of the Court's order. The Court asks about only two possibilities-when the jury is sworn or when the first witness is sworn- along a continuum of moments in a trial when jeopardy might be thought to attach. If tradition in this area is to be abandoned, there is no reason to limit the parties to these two quite arbitrary points of discussion. Cf. Williams v. Florida, 399 U.S. 78 , 125-126 (1970) (Harlan, J., concurring and dissenting) (arbitrariness as reason for \"not hoisting the anchor to history\"). At least one commentator has argued that attaching jeopardy when the jury is sworn is too late, not too early, and that jeopardy should attach at the opening of voir dire. Schulhofer, Jeopardy and Mistrials, 125 U.Pa.L.Rev. 449, 512- 514 (1977).\n",
      "\n",
      "[ Footnote 3 ] It is particularly surprising that the Court grants oral argument to the state parties here, in view of the fact that rebriefing only-and not additional oral argument-was ordered earlier this Term in Regents of University of California v. Bakke, 434 U.S. 810 . I cannot believe that the Court views the instant case as raising more momentous issues than those raised in Bakke.\n",
      "--------\n",
      "Score: 0.44\n",
      "CHICAGO: ORDER\n",
      "\n",
      "This case is restored to the calendar for reargument. Counsel are requested to brief and discuss during oral argument the following questions: [434 U.S. 980 , 981]   1. Is the rule heretofore applied in the federal courts-that jeopardy attaches in jury trials when the jury is sworn-constitutionally mandated?\n",
      "\n",
      "2. Should this Court hold that the Constitution does not require jeopardy to attach in any trial-state or federal, jury or nonjury- until the first witness is sworn?\n",
      "\n",
      "The Solicitor General is invited to file a brief expressing th views of the United States on each of these questions.\n",
      "\n",
      "Mr. Justice MARSHALL, dissenting.\n",
      "\n",
      "By its order restoring this case to the calendar for rebriefing and additional oral argument, the Court appears once again to be \"reach[ing] out\" for a vehicle to change a long line of precedent. See Pennsylvania v. Mimms, 434 U.S. 106 , at 117, (STEVENS, J., dissenting). The Court asks the parties to discuss the rule to be applied in the federal courts with regard to attachment of jeopardy, a rule that is very well established. 1 But the parties here are Montana prison officials, represented by the Attorney General of Montana, and state-court defendants; they can hardly be considered knowledgeable about the federal courts. The Court attempts to surmount this difficulty by inviting the Solicitor General to provide the federal prosecutor's perspective on this important issue, yet it does not invite the other side, federal defendants or a representative of them, to submit a brief providing the opposing perspective.\n",
      "\n",
      "In my view, the Court today does violence to two assumptions underlying Art. III of the Constitution: that we will [434 U.S. 980 , 982]   not anticipate a question before it is necessary to decide it,2 and that both sides of an issue will be vigorously represented by involved advocates. 3 See generally Ashwander v. TVA, 297 U.S. 288, 346 -348, 56 S. Ct. 466 (1936) (Brandeis, J., concurring). I dissent from the order restoring the case for reargument.\n",
      "\n",
      "Footnotes\n",
      "\n",
      "[ Footnote 1 ] The current federal rule on attachment of jeopardy was applied in the federal courts as early as 1868. United States v. Watson, 28 F.Cas. 499 (No. 16,651) (S.D.N.Y.). Since Downum v. United States, 372 U.S. 734 (1963), it has never been questioned in this Court that jeopardy attaches when the jury is sworn. See, e. g., Illinois v. Somerville, 410 U.S. 458, 467 (1973); id., at 471 (WHITE, J., dissenting); Serfass v. United States, 420 U.S. 377, 388 (1975); United States v. Martin Linen Supply Co., 430 U.S. 564, 569 , 51 L. Ed.2d 642 (1977).\n",
      "\n",
      "[ Footnote 2 ] The problems involved in anticipating a question are illustrated by the form of the Court's order. The Court asks about only two possibilities-when the jury is sworn or when the first witness is sworn- along a continuum of moments in a trial when jeopardy might be thought to attach. If tradition in this area is to be abandoned, there is no reason to limit the parties to these two quite arbitrary points of discussion. Cf. Williams v. Florida, 399 U.S. 78 , 125-126 (1970) (Harlan, J., concurring and dissenting) (arbitrariness as reason for \"not hoisting the anchor to history\"). At least one commentator has argued that attaching jeopardy when the jury is sworn is too late, not too early, and that jeopardy should attach at the opening of voir dire. Schulhofer, Jeopardy and Mistrials, 125 U.Pa.L.Rev. 449, 512- 514 (1977).\n",
      "\n",
      "[ Footnote 3 ] It is particularly surprising that the Court grants oral argument to the state parties here, in view of the fact that rebriefing only-and not additional oral argument-was ordered earlier this Term in Regents of University of California v. Bakke, 434 U.S. 810 . I cannot believe that the Court views the instant case as raising more momentous issues than those raised in Bakke.\n",
      "--------\n"
     ]
    }
   ],
   "source": [
    "def cosine_sim(vector, matrix):\n",
    "    scores = []\n",
    "    for mat in matrix:\n",
    "        cos_sim = np.dot(vector, mat)/(np.linalg.norm(vector)*np.linalg.norm(mat))\n",
    "        scores.append(cos_sim[0])\n",
    "    return np.asarray(scores)\n",
    "\n",
    "#Compute the cosine similarity between query embedding and document embedding\n",
    "scores = cosine_sim(query_emb, doc_emb)\n",
    "\n",
    "#Find the highest scores\n",
    "max_idx = np.argsort(-scores)\n",
    "\n",
    "count = 0\n",
    "print(f\"Query: {query}\")\n",
    "for idx in max_idx:\n",
    "  print(f\"Score: {scores[idx]:.2f}\")\n",
    "  print(docs[idx])\n",
    "  print(\"--------\")\n",
    "  count += 1\n",
    "  if count == 3:\n",
    "    break;"
   ]
  },
  {
   "cell_type": "code",
   "execution_count": 29,
   "metadata": {},
   "outputs": [
    {
     "data": {
      "text/plain": [
       "array([  241, 23441, 14841, ..., 21247,  9447, 14447])"
      ]
     },
     "execution_count": 29,
     "metadata": {},
     "output_type": "execute_result"
    }
   ],
   "source": [
    "max_idx"
   ]
  },
  {
   "cell_type": "code",
   "execution_count": 31,
   "metadata": {},
   "outputs": [
    {
     "name": "stdout",
     "output_type": "stream",
     "text": [
      "Query: Is there any precedent for calling a second-hand witness to the stand?\n",
      "WESTERN UNION TEL. CO. v. JAMES: ORDER\n",
      "\n",
      "This case is restored to the calendar for reargument. Counsel are requested to brief and discuss during oral argument the following questions: [434 U.S. 980 , 981]   1. Is the rule heretofore applied in the federal courts-that jeopardy attaches in jury trials when the jury is sworn-constitutionally mandated?\n",
      "\n",
      "2. Should this Court hold that the Constitution does not require jeopardy to attach in any trial-state or federal, jury or nonjury- until the first witness is sworn?\n",
      "\n",
      "The Solicitor General is invited to file a brief expressing th views of the United States on each of these questions.\n",
      "\n",
      "Mr. Justice MARSHALL, dissenting.\n",
      "\n",
      "By its order restoring this case to the calendar for rebriefing and additional oral argument, the Court appears once again to be \"reach[ing] out\" for a vehicle to change a long line of precedent. See Pennsylvania v. Mimms, 434 U.S. 106 , at 117, (STEVENS, J., dissenting). The Court asks the parties to discuss the rule to be applied in the federal courts with regard to attachment of jeopardy, a rule that is very well established. 1 But the parties here are Montana prison officials, represented by the Attorney General of Montana, and state-court defendants; they can hardly be considered knowledgeable about the federal courts. The Court attempts to surmount this difficulty by inviting the Solicitor General to provide the federal prosecutor's perspective on this important issue, yet it does not invite the other side, federal defendants or a representative of them, to submit a brief providing the opposing perspective.\n",
      "\n",
      "In my view, the Court today does violence to two assumptions underlying Art. III of the Constitution: that we will [434 U.S. 980 , 982]   not anticipate a question before it is necessary to decide it,2 and that both sides of an issue will be vigorously represented by involved advocates. 3 See generally Ashwander v. TVA, 297 U.S. 288, 346 -348, 56 S. Ct. 466 (1936) (Brandeis, J., concurring). I dissent from the order restoring the case for reargument.\n",
      "\n",
      "Footnotes\n",
      "\n",
      "[ Footnote 1 ] The current federal rule on attachment of jeopardy was applied in the federal courts as early as 1868. United States v. Watson, 28 F.Cas. 499 (No. 16,651) (S.D.N.Y.). Since Downum v. United States, 372 U.S. 734 (1963), it has never been questioned in this Court that jeopardy attaches when the jury is sworn. See, e. g., Illinois v. Somerville, 410 U.S. 458, 467 (1973); id., at 471 (WHITE, J., dissenting); Serfass v. United States, 420 U.S. 377, 388 (1975); United States v. Martin Linen Supply Co., 430 U.S. 564, 569 , 51 L. Ed.2d 642 (1977).\n",
      "\n",
      "[ Footnote 2 ] The problems involved in anticipating a question are illustrated by the form of the Court's order. The Court asks about only two possibilities-when the jury is sworn or when the first witness is sworn- along a continuum of moments in a trial when jeopardy might be thought to attach. If tradition in this area is to be abandoned, there is no reason to limit the parties to these two quite arbitrary points of discussion. Cf. Williams v. Florida, 399 U.S. 78 , 125-126 (1970) (Harlan, J., concurring and dissenting) (arbitrariness as reason for \"not hoisting the anchor to history\"). At least one commentator has argued that attaching jeopardy when the jury is sworn is too late, not too early, and that jeopardy should attach at the opening of voir dire. Schulhofer, Jeopardy and Mistrials, 125 U.Pa.L.Rev. 449, 512- 514 (1977).\n",
      "\n",
      "[ Footnote 3 ] It is particularly surprising that the Court grants oral argument to the state parties here, in view of the fact that rebriefing only-and not additional oral argument-was ordered earlier this Term in Regents of University of California v. Bakke, 434 U.S. 810 . I cannot believe that the Court views the instant case as raising more momentous issues than those raised in Bakke.\n",
      "--------\n",
      "WHITE v. NEW HAMPSHIRE DEPT. OF EMPL. SEC.: ORDER\n",
      "\n",
      "This case is restored to the calendar for reargument. Counsel are requested to brief and discuss during oral argument the following questions: [434 U.S. 980 , 981]   1. Is the rule heretofore applied in the federal courts-that jeopardy attaches in jury trials when the jury is sworn-constitutionally mandated?\n",
      "\n",
      "2. Should this Court hold that the Constitution does not require jeopardy to attach in any trial-state or federal, jury or nonjury- until the first witness is sworn?\n",
      "\n",
      "The Solicitor General is invited to file a brief expressing th views of the United States on each of these questions.\n",
      "\n",
      "Mr. Justice MARSHALL, dissenting.\n",
      "\n",
      "By its order restoring this case to the calendar for rebriefing and additional oral argument, the Court appears once again to be \"reach[ing] out\" for a vehicle to change a long line of precedent. See Pennsylvania v. Mimms, 434 U.S. 106 , at 117, (STEVENS, J., dissenting). The Court asks the parties to discuss the rule to be applied in the federal courts with regard to attachment of jeopardy, a rule that is very well established. 1 But the parties here are Montana prison officials, represented by the Attorney General of Montana, and state-court defendants; they can hardly be considered knowledgeable about the federal courts. The Court attempts to surmount this difficulty by inviting the Solicitor General to provide the federal prosecutor's perspective on this important issue, yet it does not invite the other side, federal defendants or a representative of them, to submit a brief providing the opposing perspective.\n",
      "\n",
      "In my view, the Court today does violence to two assumptions underlying Art. III of the Constitution: that we will [434 U.S. 980 , 982]   not anticipate a question before it is necessary to decide it,2 and that both sides of an issue will be vigorously represented by involved advocates. 3 See generally Ashwander v. TVA, 297 U.S. 288, 346 -348, 56 S. Ct. 466 (1936) (Brandeis, J., concurring). I dissent from the order restoring the case for reargument.\n",
      "\n",
      "Footnotes\n",
      "\n",
      "[ Footnote 1 ] The current federal rule on attachment of jeopardy was applied in the federal courts as early as 1868. United States v. Watson, 28 F.Cas. 499 (No. 16,651) (S.D.N.Y.). Since Downum v. United States, 372 U.S. 734 (1963), it has never been questioned in this Court that jeopardy attaches when the jury is sworn. See, e. g., Illinois v. Somerville, 410 U.S. 458, 467 (1973); id., at 471 (WHITE, J., dissenting); Serfass v. United States, 420 U.S. 377, 388 (1975); United States v. Martin Linen Supply Co., 430 U.S. 564, 569 , 51 L. Ed.2d 642 (1977).\n",
      "\n",
      "[ Footnote 2 ] The problems involved in anticipating a question are illustrated by the form of the Court's order. The Court asks about only two possibilities-when the jury is sworn or when the first witness is sworn- along a continuum of moments in a trial when jeopardy might be thought to attach. If tradition in this area is to be abandoned, there is no reason to limit the parties to these two quite arbitrary points of discussion. Cf. Williams v. Florida, 399 U.S. 78 , 125-126 (1970) (Harlan, J., concurring and dissenting) (arbitrariness as reason for \"not hoisting the anchor to history\"). At least one commentator has argued that attaching jeopardy when the jury is sworn is too late, not too early, and that jeopardy should attach at the opening of voir dire. Schulhofer, Jeopardy and Mistrials, 125 U.Pa.L.Rev. 449, 512- 514 (1977).\n",
      "\n",
      "[ Footnote 3 ] It is particularly surprising that the Court grants oral argument to the state parties here, in view of the fact that rebriefing only-and not additional oral argument-was ordered earlier this Term in Regents of University of California v. Bakke, 434 U.S. 810 . I cannot believe that the Court views the instant case as raising more momentous issues than those raised in Bakke.\n",
      "--------\n",
      "SAVAGE v. JONES: ORDER\n",
      "\n",
      "This case is restored to the calendar for reargument. Counsel are requested to brief and discuss during oral argument the following questions: [434 U.S. 980 , 981]   1. Is the rule heretofore applied in the federal courts-that jeopardy attaches in jury trials when the jury is sworn-constitutionally mandated?\n",
      "\n",
      "2. Should this Court hold that the Constitution does not require jeopardy to attach in any trial-state or federal, jury or nonjury- until the first witness is sworn?\n",
      "\n",
      "The Solicitor General is invited to file a brief expressing th views of the United States on each of these questions.\n",
      "\n",
      "Mr. Justice MARSHALL, dissenting.\n",
      "\n",
      "By its order restoring this case to the calendar for rebriefing and additional oral argument, the Court appears once again to be \"reach[ing] out\" for a vehicle to change a long line of precedent. See Pennsylvania v. Mimms, 434 U.S. 106 , at 117, (STEVENS, J., dissenting). The Court asks the parties to discuss the rule to be applied in the federal courts with regard to attachment of jeopardy, a rule that is very well established. 1 But the parties here are Montana prison officials, represented by the Attorney General of Montana, and state-court defendants; they can hardly be considered knowledgeable about the federal courts. The Court attempts to surmount this difficulty by inviting the Solicitor General to provide the federal prosecutor's perspective on this important issue, yet it does not invite the other side, federal defendants or a representative of them, to submit a brief providing the opposing perspective.\n",
      "\n",
      "In my view, the Court today does violence to two assumptions underlying Art. III of the Constitution: that we will [434 U.S. 980 , 982]   not anticipate a question before it is necessary to decide it,2 and that both sides of an issue will be vigorously represented by involved advocates. 3 See generally Ashwander v. TVA, 297 U.S. 288, 346 -348, 56 S. Ct. 466 (1936) (Brandeis, J., concurring). I dissent from the order restoring the case for reargument.\n",
      "\n",
      "Footnotes\n",
      "\n",
      "[ Footnote 1 ] The current federal rule on attachment of jeopardy was applied in the federal courts as early as 1868. United States v. Watson, 28 F.Cas. 499 (No. 16,651) (S.D.N.Y.). Since Downum v. United States, 372 U.S. 734 (1963), it has never been questioned in this Court that jeopardy attaches when the jury is sworn. See, e. g., Illinois v. Somerville, 410 U.S. 458, 467 (1973); id., at 471 (WHITE, J., dissenting); Serfass v. United States, 420 U.S. 377, 388 (1975); United States v. Martin Linen Supply Co., 430 U.S. 564, 569 , 51 L. Ed.2d 642 (1977).\n",
      "\n",
      "[ Footnote 2 ] The problems involved in anticipating a question are illustrated by the form of the Court's order. The Court asks about only two possibilities-when the jury is sworn or when the first witness is sworn- along a continuum of moments in a trial when jeopardy might be thought to attach. If tradition in this area is to be abandoned, there is no reason to limit the parties to these two quite arbitrary points of discussion. Cf. Williams v. Florida, 399 U.S. 78 , 125-126 (1970) (Harlan, J., concurring and dissenting) (arbitrariness as reason for \"not hoisting the anchor to history\"). At least one commentator has argued that attaching jeopardy when the jury is sworn is too late, not too early, and that jeopardy should attach at the opening of voir dire. Schulhofer, Jeopardy and Mistrials, 125 U.Pa.L.Rev. 449, 512- 514 (1977).\n",
      "\n",
      "[ Footnote 3 ] It is particularly surprising that the Court grants oral argument to the state parties here, in view of the fact that rebriefing only-and not additional oral argument-was ordered earlier this Term in Regents of University of California v. Bakke, 434 U.S. 810 . I cannot believe that the Court views the instant case as raising more momentous issues than those raised in Bakke.\n",
      "--------\n"
     ]
    }
   ],
   "source": [
    "results = co.rerank(query=query, documents=[docs[idx] for idx in max_idx][:50], top_n=3, model=\"rerank-english-v2.0\")\n",
    "\n",
    "print(f\"Query: {query}\")\n",
    "for res in results:\n",
    "  print(res.document['text'])\n",
    "  print(\"--------\")"
   ]
  },
  {
   "cell_type": "code",
   "execution_count": null,
   "metadata": {},
   "outputs": [],
   "source": [
    "for i in range(len(docs)):\n",
    "    if docs[i][:20].lower == results[0].document['text'][:20]:\n",
    "        print(i)\n",
    "        break;"
   ]
  },
  {
   "cell_type": "code",
   "execution_count": null,
   "metadata": {},
   "outputs": [],
   "source": []
  }
 ],
 "metadata": {
  "kernelspec": {
   "display_name": "rag",
   "language": "python",
   "name": "python3"
  },
  "language_info": {
   "codemirror_mode": {
    "name": "ipython",
    "version": 3
   },
   "file_extension": ".py",
   "mimetype": "text/x-python",
   "name": "python",
   "nbconvert_exporter": "python",
   "pygments_lexer": "ipython3",
   "version": "3.12.2"
  }
 },
 "nbformat": 4,
 "nbformat_minor": 2
}
